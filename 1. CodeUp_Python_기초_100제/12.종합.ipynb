{
 "cells": [
  {
   "cell_type": "code",
   "execution_count": 12,
   "metadata": {},
   "outputs": [
    {
     "name": "stdout",
     "output_type": "stream",
     "text": [
      "6\n"
     ]
    }
   ],
   "source": [
    "# 6077 : [기초-종합] 짝수 합 구하기(설명)(py)\n",
    "\n",
    "a = int(input())\n",
    "sum = 0\n",
    "\n",
    "#for i in range(a + 1):\n",
    "#    if i % 2 == 0:\n",
    "#        sum += i\n",
    "\n",
    "while a > 1:\n",
    "    if a % 2 == 0:\n",
    "        sum += a\n",
    "    a -= 1\n",
    "    \n",
    "print(sum)"
   ]
  },
  {
   "cell_type": "code",
   "execution_count": 13,
   "metadata": {},
   "outputs": [
    {
     "name": "stdout",
     "output_type": "stream",
     "text": [
      "a\n",
      "x\n",
      "b\n",
      "k\n",
      "d\n",
      "l\n",
      "q\n"
     ]
    }
   ],
   "source": [
    "# 6078 : [기초-종합] 원하는 문자가 입력될 때까지 반복 출력하기(py)\n",
    "\n",
    "while True:\n",
    "    a = input()\n",
    "    print(a)\n",
    "    if a == 'q':\n",
    "        break"
   ]
  },
  {
   "cell_type": "code",
   "execution_count": null,
   "metadata": {},
   "outputs": [
    {
     "name": "stdout",
     "output_type": "stream",
     "text": [
      "10\n"
     ]
    }
   ],
   "source": [
    "# 6079 : [기초-종합] 언제까지 더해야 할까?(py)\n",
    "\n",
    "a = int(input())\n",
    "sum = 0\n",
    "i = 0\n",
    "\n",
    "while sum < a:\n",
    "    i += 1\n",
    "    sum += i\n",
    "    \n",
    "print(i)"
   ]
  },
  {
   "cell_type": "code",
   "execution_count": 23,
   "metadata": {},
   "outputs": [
    {
     "name": "stdout",
     "output_type": "stream",
     "text": [
      "1 1\n",
      "1 2\n",
      "1 3\n",
      "2 1\n",
      "2 2\n",
      "2 3\n"
     ]
    }
   ],
   "source": [
    "# 6080 : [기초-종합] 주사위 2개 던지기(설명)(py)\n",
    "\n",
    "n, m = map(int, input().split())\n",
    "\n",
    "for i in range(1, n + 1):\n",
    "    for j in range(1, m + 1):\n",
    "        print(i, j)"
   ]
  },
  {
   "cell_type": "code",
   "execution_count": 32,
   "metadata": {},
   "outputs": [
    {
     "name": "stdout",
     "output_type": "stream",
     "text": [
      "B*1=B\n",
      "B*2=16\n",
      "B*3=21\n",
      "B*4=2C\n",
      "B*5=37\n",
      "B*6=42\n",
      "B*7=4D\n",
      "B*8=58\n",
      "B*9=63\n",
      "B*A=6E\n",
      "B*B=79\n",
      "B*C=84\n",
      "B*D=8F\n",
      "B*E=9A\n",
      "B*F=A5\n"
     ]
    }
   ],
   "source": [
    "# 6081 : [기초-종합] 16진수 구구단 출력하기(py)\n",
    "\n",
    "a = int(input(), 16)\n",
    "for i in range(1, 16):\n",
    "    print(format(a, 'X') + '*' + format(i, 'X') + '=' + format(a*int(i), 'X'))"
   ]
  },
  {
   "cell_type": "code",
   "execution_count": 50,
   "metadata": {},
   "outputs": [
    {
     "name": "stdout",
     "output_type": "stream",
     "text": [
      "1 2 X 4 5 X 7 8 X 10 11 12 X 14 15 X 17 18 X 20 21 22 X 24 25 X 27 28 X X X X X "
     ]
    }
   ],
   "source": [
    "# 6082 : [기초-종합] 3 6 9 게임의 왕이 되자(설명)(py)\n",
    "\n",
    "a = int(input())\n",
    "\n",
    "for i in range(1, a + 1):\n",
    "    if '3' in str(i) or '6' in str(i) or '9' in str(i):\n",
    "        i = 'X'\n",
    "    print(i, end = ' ')"
   ]
  },
  {
   "cell_type": "code",
   "execution_count": 52,
   "metadata": {},
   "outputs": [
    {
     "name": "stdout",
     "output_type": "stream",
     "text": [
      "0 0 0\n",
      "0 0 1\n",
      "0 1 0\n",
      "0 1 1\n",
      "1 0 0\n",
      "1 0 1\n",
      "1 1 0\n",
      "1 1 1\n",
      "8\n"
     ]
    }
   ],
   "source": [
    "# 6083 : [기초-종합] 빛 섞어 색 만들기(설명)(py)\n",
    "\n",
    "r, g, b = map(int, input().split())\n",
    "c = 0\n",
    "\n",
    "for R in range(r):\n",
    "    for G in range(g):\n",
    "        for B in range(b):\n",
    "            print(R, G, B)\n",
    "            c += 1\n",
    "\n",
    "print(c)"
   ]
  },
  {
   "cell_type": "code",
   "execution_count": 55,
   "metadata": {},
   "outputs": [
    {
     "name": "stdout",
     "output_type": "stream",
     "text": [
      "1.7 MB\n"
     ]
    }
   ],
   "source": [
    "# 6084 : [기초-종합] 소리 파일 저장용량 계산하기(py)\n",
    "\n",
    "h, b, c, s = map(int, input().split())\n",
    "\n",
    "print(round(float(h*b*c*s)/8/1024/1024, 1), 'MB')"
   ]
  },
  {
   "cell_type": "code",
   "execution_count": 62,
   "metadata": {},
   "outputs": [
    {
     "name": "stdout",
     "output_type": "stream",
     "text": [
      "2.25 MB\n"
     ]
    }
   ],
   "source": [
    "# 6085 : [기초-종합] 그림 파일 저장용량 계산하기(py)\n",
    "\n",
    "w, h, b = map(int, input().split())\n",
    "\n",
    "print(f\"{float(w*h*b)/8/1024/1024:.2f}\", 'MB')"
   ]
  },
  {
   "cell_type": "code",
   "execution_count": null,
   "metadata": {},
   "outputs": [
    {
     "name": "stdout",
     "output_type": "stream",
     "text": [
      "78\n"
     ]
    }
   ],
   "source": [
    "# 6086 : [기초-종합] 거기까지! 이제 그만~(설명)(py)\n",
    "\n",
    "a = int(input())\n",
    "sum = 0\n",
    "i = 1\n",
    "\n",
    "while a > sum:\n",
    "    sum += i\n",
    "    i += 1\n",
    "\n",
    "print(sum)"
   ]
  },
  {
   "cell_type": "code",
   "execution_count": 67,
   "metadata": {},
   "outputs": [
    {
     "name": "stdout",
     "output_type": "stream",
     "text": [
      "1 2 4 5 7 8 10 "
     ]
    }
   ],
   "source": [
    "# 6087 : [기초-종합] 3의 배수는 통과(설명)(py)\n",
    "\n",
    "a = int(input())\n",
    "\n",
    "for i in range(1, a + 1):\n",
    "    if i % 3 == 0:\n",
    "        continue\n",
    "    print(i, end = ' ')"
   ]
  },
  {
   "cell_type": "code",
   "execution_count": 69,
   "metadata": {},
   "outputs": [
    {
     "name": "stdout",
     "output_type": "stream",
     "text": [
      "13\n"
     ]
    }
   ],
   "source": [
    "# 6088 : [기초-종합] 수 나열하기1(py)\n",
    "\n",
    "a, d, n = map(int, input().split())\n",
    "\n",
    "print(a + d * (n - 1))"
   ]
  },
  {
   "cell_type": "code",
   "execution_count": 72,
   "metadata": {},
   "outputs": [
    {
     "name": "stdout",
     "output_type": "stream",
     "text": [
      "1458\n"
     ]
    }
   ],
   "source": [
    "# 6089 : [기초-종합] 수 나열하기2(py)\n",
    "\n",
    "a, r, n = map(int, input().split())\n",
    "\n",
    "print(a * r ** (n - 1))"
   ]
  },
  {
   "cell_type": "code",
   "execution_count": 74,
   "metadata": {},
   "outputs": [
    {
     "name": "stdout",
     "output_type": "stream",
     "text": [
      "-85\n"
     ]
    }
   ],
   "source": [
    "# 6090 : [기초-종합] 수 나열하기3(py)\n",
    "\n",
    "a, m, d, n = map(int, input().split())\n",
    "\n",
    "for _ in range(n - 1):\n",
    "    a = a * m + d\n",
    "\n",
    "print(a)"
   ]
  },
  {
   "cell_type": "code",
   "execution_count": 77,
   "metadata": {},
   "outputs": [
    {
     "name": "stdout",
     "output_type": "stream",
     "text": [
      "63\n"
     ]
    }
   ],
   "source": [
    "# 6091 : [기초-종합] 함께 문제 푸는 날(설명)(py)\n",
    "import math\n",
    "\n",
    "a, b, c = map(int, input().split())\n",
    "\n",
    "print(math.lcm(a,b,c))"
   ]
  },
  {
   "cell_type": "code",
   "execution_count": null,
   "metadata": {},
   "outputs": [],
   "source": []
  }
 ],
 "metadata": {
  "kernelspec": {
   "display_name": "Python 3",
   "language": "python",
   "name": "python3"
  },
  "language_info": {
   "codemirror_mode": {
    "name": "ipython",
    "version": 3
   },
   "file_extension": ".py",
   "mimetype": "text/x-python",
   "name": "python",
   "nbconvert_exporter": "python",
   "pygments_lexer": "ipython3",
   "version": "3.10.11"
  }
 },
 "nbformat": 4,
 "nbformat_minor": 2
}
