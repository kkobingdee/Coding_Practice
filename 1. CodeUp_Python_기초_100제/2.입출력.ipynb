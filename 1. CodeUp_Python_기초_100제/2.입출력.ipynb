{
 "cells": [
  {
   "cell_type": "code",
   "execution_count": 1,
   "metadata": {},
   "outputs": [
    {
     "name": "stdout",
     "output_type": "stream",
     "text": [
      "d\n"
     ]
    }
   ],
   "source": [
    "# 6009 : [기초-입출력] 문자 1개 입력받아 그대로 출력하기(설명)(py)\n",
    "\n",
    "t = input()\n",
    "print(t)"
   ]
  },
  {
   "cell_type": "code",
   "execution_count": 4,
   "metadata": {},
   "outputs": [
    {
     "name": "stdout",
     "output_type": "stream",
     "text": [
      "15\n"
     ]
    }
   ],
   "source": [
    "# 6010 : [기초-입출력] 정수 1개 입력받아 int로 변환하여 출력하기(설명)(py)\n",
    "\n",
    "t = input()\n",
    "print(int(t))"
   ]
  },
  {
   "cell_type": "code",
   "execution_count": 6,
   "metadata": {},
   "outputs": [
    {
     "name": "stdout",
     "output_type": "stream",
     "text": [
      "1.414213\n"
     ]
    }
   ],
   "source": [
    "# 6011 : [기초-입출력] 실수 1개 입력받아 변환하여 출력하기(설명)(py)\n",
    "\n",
    "t = input()\n",
    "print(float(t))"
   ]
  },
  {
   "cell_type": "code",
   "execution_count": 8,
   "metadata": {},
   "outputs": [
    {
     "name": "stdout",
     "output_type": "stream",
     "text": [
      "3\n",
      "5\n"
     ]
    }
   ],
   "source": [
    "# 6012 : [기초-입출력] 정수 2개 입력받아 그대로 출력하기1(설명)(py)\n",
    "\n",
    "v1 = input()\n",
    "v2 = input()\n",
    "print(v1)\n",
    "print(v2)"
   ]
  },
  {
   "cell_type": "code",
   "execution_count": 9,
   "metadata": {},
   "outputs": [
    {
     "name": "stdout",
     "output_type": "stream",
     "text": [
      "b\n",
      "a\n"
     ]
    }
   ],
   "source": [
    "# 6013 : [기초-입출력] 문자 2개 입력받아 순서 바꿔 출력하기1(py)\n",
    "\n",
    "v1 = input()\n",
    "v2 = input()\n",
    "print(v2)\n",
    "print(v1)"
   ]
  },
  {
   "cell_type": "code",
   "execution_count": 10,
   "metadata": {},
   "outputs": [
    {
     "name": "stdout",
     "output_type": "stream",
     "text": [
      "1\n",
      "1\n",
      "1\n"
     ]
    }
   ],
   "source": [
    "# 6014 : [기초-입출력] 실수 1개 입력받아 3번 출력하기(py)\n",
    "\n",
    "t = input()\n",
    "print(t)\n",
    "print(t)\n",
    "print(t)"
   ]
  },
  {
   "cell_type": "code",
   "execution_count": 11,
   "metadata": {},
   "outputs": [
    {
     "name": "stdout",
     "output_type": "stream",
     "text": [
      "1\n",
      "2\n"
     ]
    }
   ],
   "source": [
    "# 6015 : [기초-입출력] 정수 2개 입력받아 그대로 출력하기2(설명)(py)\n",
    "\n",
    "v1, v2 = input().split()\n",
    "print(v1)\n",
    "print(v2)"
   ]
  },
  {
   "cell_type": "code",
   "execution_count": 12,
   "metadata": {},
   "outputs": [
    {
     "name": "stdout",
     "output_type": "stream",
     "text": [
      "b a\n"
     ]
    }
   ],
   "source": [
    "# 6016 : [기초-입출력] 문자 2개 입력받아 순서 바꿔 출력하기2(설명)(py)\n",
    "\n",
    "a, b = input().split()\n",
    "print(b, a)"
   ]
  },
  {
   "cell_type": "code",
   "execution_count": 13,
   "metadata": {},
   "outputs": [
    {
     "name": "stdout",
     "output_type": "stream",
     "text": [
      "dfae dfae dfae\n"
     ]
    }
   ],
   "source": [
    "# 6017 : [기초-입출력] 문장 1개 입력받아 3번 출력하기(설명)(py)\n",
    "\n",
    "t = input()\n",
    "print(t, t, t)"
   ]
  },
  {
   "cell_type": "code",
   "execution_count": 14,
   "metadata": {},
   "outputs": [
    {
     "name": "stdout",
     "output_type": "stream",
     "text": [
      "3:16\n"
     ]
    }
   ],
   "source": [
    "# 6018 : [기초-입출력] 시간 입력받아 그대로 출력하기(설명)(py)\n",
    "\n",
    "print(input())"
   ]
  },
  {
   "cell_type": "code",
   "execution_count": 15,
   "metadata": {},
   "outputs": [
    {
     "name": "stdout",
     "output_type": "stream",
     "text": [
      "4-3-2020\n"
     ]
    }
   ],
   "source": [
    "# 6019 : [기초-입출력] 연월일 입력받아 순서 바꿔 출력하기(py)\n",
    "\n",
    "y, m, d = input().split('.')\n",
    "print(d + '-' + m + '-' + y)"
   ]
  },
  {
   "cell_type": "code",
   "execution_count": 16,
   "metadata": {},
   "outputs": [
    {
     "name": "stdout",
     "output_type": "stream",
     "text": [
      "0009071121112\n"
     ]
    }
   ],
   "source": [
    "# 6020 : [기초-입출력] 주민번호 입력받아 형태 바꿔 출력하기(py)\n",
    "\n",
    "a, b = input().split('-')\n",
    "print(a + b)"
   ]
  },
  {
   "cell_type": "code",
   "execution_count": 17,
   "metadata": {},
   "outputs": [
    {
     "name": "stdout",
     "output_type": "stream",
     "text": [
      "h\n",
      "e\n",
      "l\n",
      "l\n",
      "o\n"
     ]
    }
   ],
   "source": [
    "# 6021 : [기초-입출력] 단어 1개 입력받아 나누어 출력하기(설명)(py)\n",
    "\n",
    "t = input()\n",
    "\n",
    "for i in t:\n",
    "    print(i)"
   ]
  },
  {
   "cell_type": "code",
   "execution_count": 18,
   "metadata": {},
   "outputs": [
    {
     "name": "stdout",
     "output_type": "stream",
     "text": [
      "20 03 04\n"
     ]
    }
   ],
   "source": [
    "# 6022 : [기초-입출력] 연월일 입력받아 나누어 출력하기(설명)(py)\n",
    "\n",
    "d = input()\n",
    "print(d[:2], d[2:4], d[4:])"
   ]
  },
  {
   "cell_type": "code",
   "execution_count": 19,
   "metadata": {},
   "outputs": [
    {
     "name": "stdout",
     "output_type": "stream",
     "text": [
      "23\n"
     ]
    }
   ],
   "source": [
    "# 6023 : [기초-입출력] 시분초 입력받아 분만 출력하기(py)\n",
    "\n",
    "h, m, t = input().split(':')\n",
    "print(m)"
   ]
  },
  {
   "cell_type": "code",
   "execution_count": 20,
   "metadata": {},
   "outputs": [
    {
     "name": "stdout",
     "output_type": "stream",
     "text": [
      "helloworld\n"
     ]
    }
   ],
   "source": [
    "# 6024 : [기초-입출력] 단어 2개 입력받아 이어 붙이기(설명)(py)\n",
    "\n",
    "a, b = input().split()\n",
    "print(a + b)"
   ]
  },
  {
   "cell_type": "code",
   "execution_count": null,
   "metadata": {},
   "outputs": [],
   "source": []
  }
 ],
 "metadata": {
  "kernelspec": {
   "display_name": "Python 3",
   "language": "python",
   "name": "python3"
  },
  "language_info": {
   "codemirror_mode": {
    "name": "ipython",
    "version": 3
   },
   "file_extension": ".py",
   "mimetype": "text/x-python",
   "name": "python",
   "nbconvert_exporter": "python",
   "pygments_lexer": "ipython3",
   "version": "3.10.11"
  }
 },
 "nbformat": 4,
 "nbformat_minor": 2
}
