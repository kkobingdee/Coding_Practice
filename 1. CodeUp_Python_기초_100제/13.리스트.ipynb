{
 "cells": [
  {
   "cell_type": "code",
   "execution_count": 13,
   "metadata": {},
   "outputs": [
    {
     "name": "stdout",
     "output_type": "stream",
     "text": [
      "1 2 1 1 2 1 1 0 1 0 0 0 0 0 0 0 0 0 0 0 0 0 0\n"
     ]
    }
   ],
   "source": [
    "# 6092 : [기초-리스트] 이상한 출석 번호 부르기1(설명)(py)\n",
    "\n",
    "a = [0] * 23\n",
    "\n",
    "n = int(input())\n",
    "t = input().split()\n",
    "\n",
    "for i in t:\n",
    "    a[int(i) - 1] += 1\n",
    "    \n",
    "print(*a)"
   ]
  },
  {
   "cell_type": "code",
   "execution_count": 16,
   "metadata": {},
   "outputs": [
    {
     "name": "stdout",
     "output_type": "stream",
     "text": [
      "5 8 9 7 6 6 3 2 4 10\n"
     ]
    }
   ],
   "source": [
    "# 6093 : [기초-리스트] 이상한 출석 번호 부르기2(py)\n",
    "\n",
    "n = int(input())\n",
    "a = list(input().split())\n",
    "print(*reversed(a))"
   ]
  },
  {
   "cell_type": "code",
   "execution_count": 21,
   "metadata": {},
   "outputs": [
    {
     "name": "stdout",
     "output_type": "stream",
     "text": [
      "2\n"
     ]
    }
   ],
   "source": [
    "# 6094 : [기초-리스트] 이상한 출석 번호 부르기3(py)\n",
    "\n",
    "n = int(input())\n",
    "a = list(map(int, input().split()))\n",
    "a.sort()\n",
    "print(a[0])"
   ]
  },
  {
   "cell_type": "code",
   "execution_count": 38,
   "metadata": {},
   "outputs": [
    {
     "name": "stdout",
     "output_type": "stream",
     "text": [
      "1 0 0 0 0 0 0 0 0 0 0 0 0 0 0 0 0 0 0\n",
      "0 1 0 0 0 0 0 0 0 0 0 0 0 0 0 0 0 0 0\n",
      "0 0 0 0 0 0 0 0 0 0 0 0 0 0 0 0 0 0 0\n",
      "0 0 0 0 0 0 0 0 0 0 0 0 0 0 0 0 0 0 0\n",
      "0 0 0 0 0 0 0 0 0 0 0 0 0 0 0 0 0 0 0\n",
      "0 0 0 0 0 0 0 0 0 0 0 0 0 0 0 0 0 0 0\n",
      "0 0 0 0 0 0 0 0 0 0 0 0 0 0 0 0 0 0 0\n",
      "0 0 0 0 0 0 0 0 0 0 0 0 0 0 0 0 0 0 0\n",
      "0 0 0 0 0 0 0 0 0 0 0 0 0 0 0 0 0 0 0\n",
      "0 0 0 0 0 0 0 0 0 0 0 0 0 0 0 0 0 0 0\n",
      "0 0 0 0 0 0 0 0 0 0 0 0 0 0 0 0 0 0 0\n",
      "0 0 0 0 0 0 0 0 0 0 0 0 0 0 0 0 0 0 0\n",
      "0 0 0 0 0 0 0 0 0 0 0 0 0 0 0 0 0 0 0\n",
      "0 0 0 0 0 0 0 0 0 0 0 0 0 0 0 0 0 0 0\n",
      "0 0 0 0 0 0 0 0 0 0 0 0 0 0 0 0 0 0 0\n",
      "0 0 0 0 0 0 0 0 0 0 0 0 0 0 0 0 0 0 0\n",
      "0 0 0 0 0 0 0 0 0 0 0 0 0 0 0 0 0 0 0\n",
      "0 0 0 0 0 0 0 0 0 0 0 0 0 0 0 0 0 0 0\n",
      "0 0 0 0 0 0 0 0 0 0 0 0 0 0 0 0 0 0 0\n"
     ]
    }
   ],
   "source": [
    "# 6095 : [기초-리스트] 바둑판에 흰 돌 놓기(설명)(py)\n",
    "\n",
    "n = int(input())\n",
    "\n",
    "a = [[0 for _ in range(19)] for _ in range(19)]\n",
    "\n",
    "for _ in range (n):\n",
    "    x, y = map(int, input().split())\n",
    "    a[x - 1][y - 1] = 1\n",
    "\n",
    "for row in a:\n",
    "    print(*row)"
   ]
  },
  {
   "cell_type": "code",
   "execution_count": null,
   "metadata": {},
   "outputs": [
    {
     "name": "stdout",
     "output_type": "stream",
     "text": [
      "0 0 0 0 0 0 0 0 0 1 0 1 0 0 0 0 0 0 0\n",
      "0 0 0 0 0 0 0 0 0 1 0 1 0 0 0 0 0 0 0\n",
      "0 0 0 0 0 0 0 0 0 1 0 1 0 0 0 0 0 0 0\n",
      "0 0 0 0 0 0 0 0 0 1 0 1 0 0 0 0 0 0 0\n",
      "0 0 0 0 0 0 0 0 0 1 0 1 0 0 0 0 0 0 0\n",
      "0 0 0 0 0 0 0 0 0 1 0 1 0 0 0 0 0 0 0\n",
      "0 0 0 0 0 0 0 0 0 1 0 1 0 0 0 0 0 0 0\n",
      "0 0 0 0 0 0 0 0 0 1 0 1 0 0 0 0 0 0 0\n",
      "0 0 0 0 0 0 0 0 0 1 0 1 0 0 0 0 0 0 0\n",
      "1 1 1 1 1 1 1 1 1 1 1 1 1 1 1 1 1 1 1\n",
      "0 0 0 0 0 0 0 0 0 1 0 1 0 0 0 0 0 0 0\n",
      "1 1 1 1 1 1 1 1 1 1 1 1 1 1 1 1 1 1 1\n",
      "0 0 0 0 0 0 0 0 0 1 0 1 0 0 0 0 0 0 0\n",
      "0 0 0 0 0 0 0 0 0 1 0 1 0 0 0 0 0 0 0\n",
      "0 0 0 0 0 0 0 0 0 1 0 1 0 0 0 0 0 0 0\n",
      "0 0 0 0 0 0 0 0 0 1 0 1 0 0 0 0 0 0 0\n",
      "0 0 0 0 0 0 0 0 0 1 0 1 0 0 0 0 0 0 0\n",
      "0 0 0 0 0 0 0 0 0 1 0 1 0 0 0 0 0 0 0\n",
      "0 0 0 0 0 0 0 0 0 1 0 1 0 0 0 0 0 0 0\n"
     ]
    }
   ],
   "source": [
    "# 6096 : [기초-리스트] 바둑알 십자 뒤집기(py)\n",
    "\n",
    "a = [list(map(int, input().split())) for _ in range(19)]\n",
    "    \n",
    "n = int(input())\n",
    "\n",
    "for _ in range(n):\n",
    "    x, y = map(int, input().split())\n",
    "    x -= 1\n",
    "    y -= 1\n",
    "    \n",
    "    for i in range(19):\n",
    "        a[x][i] = 1 - a[x][i]\n",
    "    \n",
    "    for i in range(19):\n",
    "        a[i][y] = 1 - a[i][y]\n",
    "\n",
    "for row in a:\n",
    "    print(*row)\n",
    "            "
   ]
  },
  {
   "cell_type": "code",
   "execution_count": 52,
   "metadata": {},
   "outputs": [
    {
     "name": "stdout",
     "output_type": "stream",
     "text": [
      "1 1 0 0 0\n",
      "0 0 1 0 1\n",
      "0 0 1 0 1\n",
      "0 0 1 0 1\n",
      "0 0 0 0 1\n"
     ]
    }
   ],
   "source": [
    "# 6097 : [기초-리스트] 설탕과자 뽑기(py)\n",
    "\n",
    "h, w = map(int, input().split())\n",
    "\n",
    "a = [[0 for _ in range(w)] for _ in range(h)]\n",
    "\n",
    "n = int(input())\n",
    "for _ in range(n):\n",
    "    l, d, x, y = map(int, input().split())\n",
    "    x -= 1\n",
    "    y -= 1\n",
    "    \n",
    "    if d == 0:\n",
    "        for i in range(l):\n",
    "            a[x][y + i] = 1\n",
    "    elif d == 1:\n",
    "        for i in range(l):\n",
    "            a[x + i][y] = 1\n",
    "            \n",
    "for row in a:\n",
    "    print(*row)"
   ]
  },
  {
   "cell_type": "code",
   "execution_count": null,
   "metadata": {},
   "outputs": [
    {
     "name": "stdout",
     "output_type": "stream",
     "text": [
      "1 1 1 1 1 1 1 1 1 1\n",
      "1 0 0 1 0 0 0 0 0 1\n",
      "1 0 0 1 1 1 0 0 0 1\n",
      "1 0 0 0 0 0 0 1 0 1\n",
      "1 0 0 0 0 0 0 1 0 1\n",
      "1 0 0 0 0 1 0 1 0 1\n",
      "1 0 0 0 0 1 2 1 0 1\n",
      "1 0 0 0 0 1 0 0 0 1\n",
      "1 0 0 0 0 0 0 0 0 1\n",
      "1 1 1 1 1 1 1 1 1 1\n"
     ]
    }
   ],
   "source": [
    "# 6098 : [기초-리스트] 성실한 개미(py)\n",
    "\n",
    "a = [list(map(int, input().split())) for _ in range(10)]\n",
    "\n",
    "x = 1\n",
    "y = 1\n",
    "while True:\n",
    "    if a[x][y] == 2:\n",
    "        a[x][y] = 9\n",
    "        break\n",
    "    \n",
    "    a[x][y] = 9\n",
    "    \n",
    "    if a[x ][y + 1] == 0 or a[x][y + 1] == 2:\n",
    "        y += 1\n",
    "    elif a[x + 1][y] == 0 or a[x + 1][y] == 2:\n",
    "        x += 1\n",
    "    else:\n",
    "        break\n",
    "            \n",
    "for row in a:\n",
    "    print(*row)\n",
    "    "
   ]
  },
  {
   "cell_type": "code",
   "execution_count": null,
   "metadata": {},
   "outputs": [],
   "source": []
  }
 ],
 "metadata": {
  "kernelspec": {
   "display_name": "Python 3",
   "language": "python",
   "name": "python3"
  },
  "language_info": {
   "codemirror_mode": {
    "name": "ipython",
    "version": 3
   },
   "file_extension": ".py",
   "mimetype": "text/x-python",
   "name": "python",
   "nbconvert_exporter": "python",
   "pygments_lexer": "ipython3",
   "version": "3.10.11"
  }
 },
 "nbformat": 4,
 "nbformat_minor": 2
}
