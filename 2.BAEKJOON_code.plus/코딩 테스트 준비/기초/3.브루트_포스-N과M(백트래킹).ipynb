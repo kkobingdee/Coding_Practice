{
 "cells": [
  {
   "cell_type": "code",
   "execution_count": 8,
   "metadata": {},
   "outputs": [
    {
     "name": "stdout",
     "output_type": "stream",
     "text": [
      "1 2 3\n",
      "1 2 4\n",
      "1 2 5\n",
      "1 3 2\n",
      "1 3 4\n",
      "1 3 5\n",
      "1 4 2\n",
      "1 4 3\n",
      "1 4 5\n",
      "1 5 2\n",
      "1 5 3\n",
      "1 5 4\n",
      "2 1 3\n",
      "2 1 4\n",
      "2 1 5\n",
      "2 3 1\n",
      "2 3 4\n",
      "2 3 5\n",
      "2 4 1\n",
      "2 4 3\n",
      "2 4 5\n",
      "2 5 1\n",
      "2 5 3\n",
      "2 5 4\n",
      "3 1 2\n",
      "3 1 4\n",
      "3 1 5\n",
      "3 2 1\n",
      "3 2 4\n",
      "3 2 5\n",
      "3 4 1\n",
      "3 4 2\n",
      "3 4 5\n",
      "3 5 1\n",
      "3 5 2\n",
      "3 5 4\n",
      "4 1 2\n",
      "4 1 3\n",
      "4 1 5\n",
      "4 2 1\n",
      "4 2 3\n",
      "4 2 5\n",
      "4 3 1\n",
      "4 3 2\n",
      "4 3 5\n",
      "4 5 1\n",
      "4 5 2\n",
      "4 5 3\n",
      "5 1 2\n",
      "5 1 3\n",
      "5 1 4\n",
      "5 2 1\n",
      "5 2 3\n",
      "5 2 4\n",
      "5 3 1\n",
      "5 3 2\n",
      "5 3 4\n",
      "5 4 1\n",
      "5 4 2\n",
      "5 4 3\n"
     ]
    }
   ],
   "source": [
    "# 15649 N과 M (1)\n",
    "\n",
    "def backtrack(N, M, arr):\n",
    "    if len(arr) == M:\n",
    "        print(' '.join(map(str, arr)))\n",
    "        \n",
    "    for i in range (1, (N+1)):\n",
    "        if i not in arr:\n",
    "            arr.append(i)\n",
    "            backtrack(N, M, arr)\n",
    "            arr.pop()\n",
    "\n",
    "N, M = map(int, input().split())\n",
    "\n",
    "backtrack(N, M, [])"
   ]
  },
  {
   "cell_type": "code",
   "execution_count": 1,
   "metadata": {},
   "outputs": [
    {
     "name": "stdout",
     "output_type": "stream",
     "text": [
      "1 2 3\n",
      "1 2 4\n",
      "1 2 5\n",
      "1 3 4\n",
      "1 3 5\n",
      "1 4 5\n",
      "2 3 4\n",
      "2 3 5\n",
      "2 4 5\n",
      "3 4 5\n"
     ]
    }
   ],
   "source": [
    "# 15650 N과 M (2)\n",
    "\n",
    "def backtrack(N, M, arr, t):\n",
    "    if len(arr) == M:\n",
    "        print(' '.join(map(str, arr)))\n",
    "        \n",
    "    for i in range (t, (N+1)):\n",
    "        if i not in arr:\n",
    "            arr.append(i)\n",
    "            backtrack(N, M, arr, i + 1)\n",
    "            arr.pop()\n",
    "\n",
    "N, M = map(int, input().split())\n",
    "backtrack(N, M, [], 1)\n"
   ]
  },
  {
   "cell_type": "code",
   "execution_count": 2,
   "metadata": {},
   "outputs": [
    {
     "name": "stdout",
     "output_type": "stream",
     "text": [
      "1 1 1\n",
      "1 1 2\n",
      "1 1 3\n",
      "1 2 1\n",
      "1 2 2\n",
      "1 2 3\n",
      "1 3 1\n",
      "1 3 2\n",
      "1 3 3\n",
      "2 1 1\n",
      "2 1 2\n",
      "2 1 3\n",
      "2 2 1\n",
      "2 2 2\n",
      "2 2 3\n",
      "2 3 1\n",
      "2 3 2\n",
      "2 3 3\n",
      "3 1 1\n",
      "3 1 2\n",
      "3 1 3\n",
      "3 2 1\n",
      "3 2 2\n",
      "3 2 3\n",
      "3 3 1\n",
      "3 3 2\n",
      "3 3 3\n"
     ]
    }
   ],
   "source": [
    "# 15651 N과 M (3)\n",
    "\n",
    "def backtrack(N, M, arr):\n",
    "    if len(arr) == M:\n",
    "        print(' '.join(map(str, arr)))\n",
    "        return\n",
    "        \n",
    "    for i in range (1, (N+1)):\n",
    "        #if i not in arr:\n",
    "        arr.append(i)\n",
    "        backtrack(N, M, arr)\n",
    "        arr.pop()\n",
    "\n",
    "N, M = map(int, input().split())\n",
    "\n",
    "backtrack(N, M, [])"
   ]
  },
  {
   "cell_type": "code",
   "execution_count": null,
   "metadata": {},
   "outputs": [],
   "source": []
  }
 ],
 "metadata": {
  "kernelspec": {
   "display_name": "Python 3",
   "language": "python",
   "name": "python3"
  },
  "language_info": {
   "codemirror_mode": {
    "name": "ipython",
    "version": 3
   },
   "file_extension": ".py",
   "mimetype": "text/x-python",
   "name": "python",
   "nbconvert_exporter": "python",
   "pygments_lexer": "ipython3",
   "version": "3.10.11"
  }
 },
 "nbformat": 4,
 "nbformat_minor": 2
}
