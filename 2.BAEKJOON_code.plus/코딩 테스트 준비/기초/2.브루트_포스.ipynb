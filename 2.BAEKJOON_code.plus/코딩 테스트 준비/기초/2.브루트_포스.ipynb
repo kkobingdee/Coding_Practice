{
 "cells": [
  {
   "cell_type": "code",
   "execution_count": null,
   "metadata": {},
   "outputs": [
    {
     "name": "stdout",
     "output_type": "stream",
     "text": [
      "7\n",
      "8\n",
      "10\n",
      "13\n",
      "19\n",
      "20\n",
      "23\n"
     ]
    }
   ],
   "source": [
    "# 2309 일곱 난쟁이\n",
    "\n",
    "import itertools \n",
    "\n",
    "arr = []\n",
    "for i in range(9):\n",
    "    arr.append(int(input()))\n",
    "    \n",
    "\n",
    "for comb in itertools.combinations(arr, 7):\n",
    "    if sum(comb) == 100:\n",
    "        for i in sorted(comb):\n",
    "            print(i)\n",
    "        break\n"
   ]
  },
  {
   "cell_type": "code",
   "execution_count": 9,
   "metadata": {},
   "outputs": [
    {
     "name": "stdout",
     "output_type": "stream",
     "text": [
      "4\n"
     ]
    }
   ],
   "source": [
    "# 3085 사탕 게임\n",
    "\n",
    "def find_max_length(a):\n",
    "    max_c = 0\n",
    "    N = len(a)\n",
    "\n",
    "    for row in a:\n",
    "        c = 1\n",
    "        for i in range(1, N):\n",
    "            if row[i] == row[i-1]:\n",
    "                c += 1\n",
    "            else:\n",
    "                c = 1\n",
    "            max_c = max(max_c, c)\n",
    "            \n",
    "    for j in range(N):\n",
    "        c = 1\n",
    "        for i in range(1, N):\n",
    "            if a[i][j] == a[i-1][j]:\n",
    "                c += 1\n",
    "            else:\n",
    "                c = 1\n",
    "            max_c = max(max_c, c)\n",
    "            \n",
    "    return max_c\n",
    "\n",
    "N = int(input())\n",
    "a = [[0 for _ in range(N)] for _ in range(N)]\n",
    "\n",
    "for i in range(N):\n",
    "    a[i] = list(input())\n",
    "\n",
    "max_c = 0\n",
    "\n",
    "for i in range(N):\n",
    "    for j in range(1, N):\n",
    "        if a[i][j] != a[i][j-1]:\n",
    "            a[i][j], a[i][j-1] = a[i][j-1], a[i][j]\n",
    "            max_c = max(max_c, find_max_length(a))\n",
    "            a[i][j], a[i][j-1] = a[i][j-1], a[i][j]\n",
    "            \n",
    "for j in range(N):\n",
    "    for i in range(1, N):\n",
    "        if a[i][j] != a[i-1][j]:\n",
    "            a[i][j], a[i-1][j] = a[i-1][j], a[i][j]\n",
    "            max_c = max(max_c, find_max_length(a))\n",
    "            a[i][j], a[i-1][j] = a[i-1][j], a[i][j]\n",
    "             \n",
    "print(max_c)"
   ]
  },
  {
   "cell_type": "code",
   "execution_count": 22,
   "metadata": {},
   "outputs": [
    {
     "name": "stdout",
     "output_type": "stream",
     "text": [
      "7980\n"
     ]
    }
   ],
   "source": [
    "# 1476 날짜 계산\n",
    "\n",
    "e, s, m = map(int, input().split())\n",
    "y = e\n",
    "\n",
    "while True:\n",
    "    if (y - s) % 28 == 0 and (y - m) % 19 == 0:\n",
    "        print(y)\n",
    "        break\n",
    "    y += 15"
   ]
  },
  {
   "cell_type": "code",
   "execution_count": null,
   "metadata": {},
   "outputs": [
    {
     "name": "stdout",
     "output_type": "stream",
     "text": [
      "5\n"
     ]
    }
   ],
   "source": [
    "# 1107 리모컨\n",
    "\n",
    "def is_valid(num, w):\n",
    "    for n in str(num):\n",
    "        if int(n) in w:\n",
    "            return False\n",
    "    return True\n",
    "\n",
    "N = int(input())\n",
    "M = int(input())\n",
    "w = list(map(int, input().split())) if M != 0 else []\n",
    "\n",
    "min_click = abs(N - 100)\n",
    "\n",
    "for num in range(1000000):\n",
    "    if is_valid(num, w):\n",
    "        click = len(str(num)) + abs(num - N)\n",
    "        min_click = min(min_click, click)\n",
    "\n",
    "print(min_click)"
   ]
  },
  {
   "cell_type": "code",
   "execution_count": 22,
   "metadata": {},
   "outputs": [
    {
     "name": "stdout",
     "output_type": "stream",
     "text": [
      "20\n"
     ]
    }
   ],
   "source": [
    "# 14500 테트로미노\n",
    "\n",
    "N, M = map(int, input().split())\n",
    "arr = [list(map(int, input().split())) for _ in range (N)]\n",
    "max_sum = 0\n",
    "\n",
    "# 4x1\n",
    "for i in range(N):\n",
    "    for j in range((M-3)):\n",
    "        sum = 0\n",
    "        sum = arr[i][j] + arr[i][j+1] + arr[i][j+2] + arr[i][j+3]\n",
    "        max_sum = max(sum, max_sum)\n",
    "\n",
    "# 1x4\n",
    "for j in range(M):\n",
    "    for i in range((N-3)):\n",
    "        sum = 0\n",
    "        sum = arr[i][j] + arr[i+1][j] + arr[i+2][j] + arr[i+3][j]\n",
    "        max_sum = max(sum, max_sum)\n",
    "        \n",
    "# 2x2\n",
    "for i in range((N-1)):\n",
    "    for j in range((M-1)):\n",
    "        sum = 0\n",
    "        sum = arr[i][j] + arr[i][j+1] + arr[i+1][j] + arr[i+1][j+1]\n",
    "        max_sum = max(sum, max_sum)\n",
    "        \n",
    "# 3x2\n",
    "for i in range((N-2)):\n",
    "    for j in range((M-1)):\n",
    "        sum = 0\n",
    "        sum = arr[i][j] + arr[i+1][j] + arr[i+2][j] + arr[i+2][j+1]\n",
    "        max_sum = max(sum, max_sum)\n",
    "\n",
    "        sum = 0\n",
    "        sum = arr[i][j] + arr[i+1][j] + arr[i+2][j] + arr[i][j+1]\n",
    "        max_sum = max(sum, max_sum)\n",
    "\n",
    "        sum = 0\n",
    "        sum = arr[i][j] + arr[i][j+1] + arr[i+1][j+1] + arr[i+2][j+1]\n",
    "        max_sum = max(sum, max_sum)\n",
    "        \n",
    "        sum = 0\n",
    "        sum = arr[i+2][j] + arr[i][j+1] + arr[i+1][j+1] + arr[i+2][j+1]\n",
    "        max_sum = max(sum, max_sum)\n",
    "        \n",
    "        sum = 0\n",
    "        sum = arr[i][j] + arr[i+1][j] + arr[i+1][j+1] + arr[i+2][j+1]\n",
    "        max_sum = max(sum, max_sum)\n",
    "        \n",
    "        sum = 0\n",
    "        sum = arr[i][j+1] + arr[i][j+1] + arr[i+1][j] + arr[i+2][j]\n",
    "        max_sum = max(sum, max_sum)\n",
    "        \n",
    "        sum = 0\n",
    "        sum = arr[i][j] + arr[i+1][j] + arr[i+1][j+1] + arr[i+2][j]\n",
    "        max_sum = max(sum, max_sum)\n",
    "        \n",
    "        sum = 0\n",
    "        sum = arr[i][j+1] + arr[i+1][j] + arr[i+1][j+1] + arr[i+2][j+1]\n",
    "        max_sum = max(sum, max_sum)\n",
    "\n",
    "# 2x3\n",
    "for i in range((N-1)):\n",
    "    for j in range((M-2)):\n",
    "        sum = 0\n",
    "        sum = arr[i][j] + arr[i][j+1] + arr[i][j+2] + arr[i+1][j]\n",
    "        max_sum = max(sum, max_sum)\n",
    "\n",
    "        sum = 0\n",
    "        sum = arr[i][j] + arr[i][j+1] + arr[i][j+2] + arr[i+1][j+2]\n",
    "        max_sum = max(sum, max_sum)\n",
    "\n",
    "        sum = 0\n",
    "        sum = arr[i][j] + arr[i+1][j] + arr[i+1][j+1] + arr[i+1][j+2]\n",
    "        max_sum = max(sum, max_sum)\n",
    "        \n",
    "        sum = 0\n",
    "        sum = arr[i][j+2] + arr[i+1][j] + arr[i+1][j+1] + arr[i+1][j+2]\n",
    "        max_sum = max(sum, max_sum)\n",
    "        \n",
    "        sum = 0\n",
    "        sum = arr[i][j] + arr[i][j+1] + arr[i+1][j+1] + arr[i+1][j+2]\n",
    "        max_sum = max(sum, max_sum)\n",
    "        \n",
    "        sum = 0\n",
    "        sum = arr[i][j+2] + arr[i][j+1] + arr[i+1][j+1] + arr[i+1][j]\n",
    "        max_sum = max(sum, max_sum)\n",
    "        \n",
    "        sum = 0\n",
    "        sum = arr[i][j] + arr[i][j+1] + arr[i][j+2] + arr[i+1][j+1]\n",
    "        max_sum = max(sum, max_sum)\n",
    "        \n",
    "        sum = 0\n",
    "        sum = arr[i][j+1] + arr[i+1][j] + arr[i+1][j+1] + arr[i+1][j+2]\n",
    "        max_sum = max(sum, max_sum)\n",
    "\n",
    "print(max_sum)"
   ]
  },
  {
   "cell_type": "code",
   "execution_count": null,
   "metadata": {},
   "outputs": [
    {
     "name": "stdout",
     "output_type": "stream",
     "text": [
      "7\n"
     ]
    }
   ],
   "source": [
    "n, m = map(int, input().split())\n",
    "array = []\n",
    "answer = 0\n",
    "\n",
    "shapes = [[(0, 0), (0, 1), (1, 0), (1, 1)], [(0, 0), (0, 1), (0, 2), (0, 3)], [(0, 0), (1, 0), (2, 0), (3, 0)], [(0, 0), (1, 0), (1, 1), (2, 1)], [(0, 0), (1, 0), (1, -1), (2, -1)], [(0, 0), (0, 1), (1, 1), (1, 2)], [(0, 0), (0, 1), (-1, 1), (-1, 2)], [(0, 0), (0, 1), (0, 2), (1, 2)], [(0, 0), (1, 0), (2, 0), (2, -1)], [(0, 0), (1, 0), (1, 1), (1, 2)], [(0, 0), (0, -1), (1, -1), (2, -1)], [(0, 0), (-1, 0), (-1, 1), (-1, 2)], [(0, 0), (1, 0), (2, 0), (2, 1)], [(0, 0), (0, 1), (0, 2), (-1, 2)], [(0, 0), (0, 1), (1, 1), (2, 1)], [(0, 0), (0, 1), (-1, 1), (0, 2)], [(0, 0), (1, 0), (1, 1), (2, 0)], [(0, 0), (0, 1), (1, 1), (0, 2)], [(0, 0), (1, 0), (1, -1), (2, 0)]]\n",
    "\n",
    "for _ in range(n):\n",
    "    array.append(list(map(int, input().split())))\n",
    "\n",
    "for i in range(n):\n",
    "    for j in range(m):\n",
    "        for shape in shapes:\n",
    "            temp = 0\n",
    "            for s in shape:\n",
    "                if 0 <= i + s[0] < n and 0 <= j + s[1] < m:\n",
    "                    temp += array[i + s[0]][j + s[1]]\n",
    "            answer = max(answer, temp)\n",
    "\n",
    "print(answer)"
   ]
  },
  {
   "cell_type": "code",
   "execution_count": null,
   "metadata": {},
   "outputs": [
    {
     "name": "stdout",
     "output_type": "stream",
     "text": [
      "33\n",
      "-1\n",
      "83\n"
     ]
    }
   ],
   "source": [
    "# 6064 카잉 달력\n",
    "\n",
    "import math\n",
    "\n",
    "def Inca(M, N, x, y):\n",
    "    Max_v = math.lcm(M, N)\n",
    "    k = x\n",
    "    while k <= Max_v:\n",
    "        if (k - y) % N == 0:\n",
    "            return k\n",
    "        k += M\n",
    "    return -1\n",
    "\n",
    "T = int(input())\n",
    "\n",
    "for _ in range(T):\n",
    "    M, N, x, y = map(int, input().split())\n",
    "    print(Inca(M, N, x, y))"
   ]
  },
  {
   "cell_type": "code",
   "execution_count": 33,
   "metadata": {},
   "outputs": [
    {
     "name": "stdout",
     "output_type": "stream",
     "text": [
      "252\n"
     ]
    }
   ],
   "source": [
    "# 1748 수 이어 쓰기 1\n",
    "\n",
    "N = int(input())\n",
    "\n",
    "count = 0\n",
    "start = 1\n",
    "length = 1\n",
    "\n",
    "while start <= N:\n",
    "    end = min(start * 10 - 1, N)\n",
    "    count += (end-start+1) * length\n",
    "    length += 1\n",
    "    start *= 10\n",
    "    \n",
    "print(count)"
   ]
  },
  {
   "cell_type": "code",
   "execution_count": 34,
   "metadata": {},
   "outputs": [
    {
     "name": "stdout",
     "output_type": "stream",
     "text": [
      "7\n",
      "44\n",
      "274\n"
     ]
    }
   ],
   "source": [
    "# 1, 2, 3 더하기\n",
    "\n",
    "dp = [0] * 11\n",
    "dp[1] = 1\n",
    "dp[2] = 2\n",
    "dp[3] = 4\n",
    "for i in range(4, 11):\n",
    "    dp[i] = dp[i-1] + dp[i-2] + dp[i-3]\n",
    "    \n",
    "T = int(input())\n",
    "\n",
    "for _ in range(T):\n",
    "    print(dp[int(input())])"
   ]
  },
  {
   "cell_type": "code",
   "execution_count": null,
   "metadata": {},
   "outputs": [],
   "source": []
  }
 ],
 "metadata": {
  "kernelspec": {
   "display_name": "Python 3",
   "language": "python",
   "name": "python3"
  },
  "language_info": {
   "codemirror_mode": {
    "name": "ipython",
    "version": 3
   },
   "file_extension": ".py",
   "mimetype": "text/x-python",
   "name": "python",
   "nbconvert_exporter": "python",
   "pygments_lexer": "ipython3",
   "version": "3.10.11"
  }
 },
 "nbformat": 4,
 "nbformat_minor": 2
}
