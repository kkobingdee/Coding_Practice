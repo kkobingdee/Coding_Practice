{
 "cells": [
  {
   "cell_type": "code",
   "execution_count": null,
   "metadata": {},
   "outputs": [
    {
     "name": "stdout",
     "output_type": "stream",
     "text": [
      "7\n",
      "8\n",
      "10\n",
      "13\n",
      "19\n",
      "20\n",
      "23\n"
     ]
    }
   ],
   "source": [
    "# 2309 일곱 난쟁이\n",
    "\n",
    "import itertools \n",
    "\n",
    "arr = []\n",
    "for i in range(9):\n",
    "    arr.append(int(input()))\n",
    "    \n",
    "\n",
    "for comb in itertools.combinations(arr, 7):\n",
    "    if sum(comb) == 100:\n",
    "        for i in sorted(comb):\n",
    "            print(i)\n",
    "        break\n"
   ]
  },
  {
   "cell_type": "code",
   "execution_count": 9,
   "metadata": {},
   "outputs": [
    {
     "name": "stdout",
     "output_type": "stream",
     "text": [
      "4\n"
     ]
    }
   ],
   "source": [
    "# 3085 사탕 게임\n",
    "\n",
    "def find_max_length(a):\n",
    "    max_c = 0\n",
    "    N = len(a)\n",
    "\n",
    "    for row in a:\n",
    "        c = 1\n",
    "        for i in range(1, N):\n",
    "            if row[i] == row[i-1]:\n",
    "                c += 1\n",
    "            else:\n",
    "                c = 1\n",
    "            max_c = max(max_c, c)\n",
    "            \n",
    "    for j in range(N):\n",
    "        c = 1\n",
    "        for i in range(1, N):\n",
    "            if a[i][j] == a[i-1][j]:\n",
    "                c += 1\n",
    "            else:\n",
    "                c = 1\n",
    "            max_c = max(max_c, c)\n",
    "            \n",
    "    return max_c\n",
    "\n",
    "N = int(input())\n",
    "a = [[0 for _ in range(N)] for _ in range(N)]\n",
    "\n",
    "for i in range(N):\n",
    "    a[i] = list(input())\n",
    "\n",
    "max_c = 0\n",
    "\n",
    "for i in range(N):\n",
    "    for j in range(1, N):\n",
    "        if a[i][j] != a[i][j-1]:\n",
    "            a[i][j], a[i][j-1] = a[i][j-1], a[i][j]\n",
    "            max_c = max(max_c, find_max_length(a))\n",
    "            a[i][j], a[i][j-1] = a[i][j-1], a[i][j]\n",
    "            \n",
    "for j in range(N):\n",
    "    for i in range(1, N):\n",
    "        if a[i][j] != a[i-1][j]:\n",
    "            a[i][j], a[i-1][j] = a[i-1][j], a[i][j]\n",
    "            max_c = max(max_c, find_max_length(a))\n",
    "            a[i][j], a[i-1][j] = a[i-1][j], a[i][j]\n",
    "             \n",
    "print(max_c)"
   ]
  },
  {
   "cell_type": "code",
   "execution_count": 22,
   "metadata": {},
   "outputs": [
    {
     "name": "stdout",
     "output_type": "stream",
     "text": [
      "7980\n"
     ]
    }
   ],
   "source": [
    "# 1476 날짜 계산\n",
    "\n",
    "e, s, m = map(int, input().split())\n",
    "y = e\n",
    "\n",
    "while True:\n",
    "    if (y - s) % 28 == 0 and (y - m) % 19 == 0:\n",
    "        print(y)\n",
    "        break\n",
    "    y += 15"
   ]
  },
  {
   "cell_type": "code",
   "execution_count": null,
   "metadata": {},
   "outputs": [
    {
     "name": "stdout",
     "output_type": "stream",
     "text": [
      "5\n"
     ]
    }
   ],
   "source": [
    "# 1107 리모컨\n",
    "\n",
    "def is_valid(num, w):\n",
    "    for n in str(num):\n",
    "        if int(n) in w:\n",
    "            return False\n",
    "    return True\n",
    "\n",
    "N = int(input())\n",
    "M = int(input())\n",
    "w = list(map(int, input().split())) if M != 0 else []\n",
    "\n",
    "min_click = abs(N - 100)\n",
    "\n",
    "for num in range(1000000):\n",
    "    if is_valid(num, w):\n",
    "        click = len(str(num)) + abs(num - N)\n",
    "        min_click = min(min_click, click)\n",
    "\n",
    "print(min_click)"
   ]
  },
  {
   "cell_type": "code",
   "execution_count": null,
   "metadata": {},
   "outputs": [],
   "source": []
  },
  {
   "cell_type": "code",
   "execution_count": null,
   "metadata": {},
   "outputs": [],
   "source": []
  }
 ],
 "metadata": {
  "kernelspec": {
   "display_name": "Python 3",
   "language": "python",
   "name": "python3"
  },
  "language_info": {
   "codemirror_mode": {
    "name": "ipython",
    "version": 3
   },
   "file_extension": ".py",
   "mimetype": "text/x-python",
   "name": "python",
   "nbconvert_exporter": "python",
   "pygments_lexer": "ipython3",
   "version": "3.10.11"
  }
 },
 "nbformat": 4,
 "nbformat_minor": 2
}
