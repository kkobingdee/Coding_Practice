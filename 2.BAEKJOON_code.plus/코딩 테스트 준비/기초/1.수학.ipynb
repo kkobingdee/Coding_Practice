{
 "cells": [
  {
   "cell_type": "code",
   "execution_count": null,
   "metadata": {},
   "outputs": [
    {
     "name": "stdout",
     "output_type": "stream",
     "text": [
      "1\n",
      "1\n",
      "0\n",
      "0\n"
     ]
    }
   ],
   "source": [
    "# 10430 나머지\n",
    "\n",
    "A, B, C = map(int, input().split())\n",
    "\n",
    "print((A + B) % C)\n",
    "print(((A % B) + (B % C)) % C)\n",
    "print((A * B) % C)\n",
    "print(((A % C) * (B % C)) % C)"
   ]
  },
  {
   "cell_type": "code",
   "execution_count": 9,
   "metadata": {},
   "outputs": [
    {
     "name": "stdout",
     "output_type": "stream",
     "text": [
      "3\n",
      "6\n",
      "12\n"
     ]
    }
   ],
   "source": [
    "# 4375 1\n",
    "\n",
    "while True:\n",
    "    try:\n",
    "        n = int(input())\n",
    "    except:\n",
    "        break\n",
    "    \n",
    "    one = 1\n",
    "    while True:\n",
    "        if one % n != 0:\n",
    "            one = one * 10 + 1\n",
    "            continue\n",
    "        else:\n",
    "            print(len(str(one)))\n",
    "            break"
   ]
  },
  {
   "cell_type": "code",
   "execution_count": 17,
   "metadata": {},
   "outputs": [
    {
     "name": "stdout",
     "output_type": "stream",
     "text": [
      "185192\n"
     ]
    }
   ],
   "source": [
    "# 1037 약수\n",
    "\n",
    "int(input())\n",
    "arr = list(map(int, input().split()))\n",
    "arr.sort()\n",
    "if len(arr) == 1:\n",
    "    print(arr[0] ** 2)\n",
    "else:\n",
    "    print(arr[0] * arr[-1])\n"
   ]
  },
  {
   "cell_type": "code",
   "execution_count": 25,
   "metadata": {},
   "outputs": [
    {
     "name": "stdout",
     "output_type": "stream",
     "text": [
      "82256014\n"
     ]
    }
   ],
   "source": [
    "# 17427 약수의 합 2\n",
    "\n",
    "N = int(input())\n",
    "sum = 0\n",
    "\n",
    "for i in range(1, N + 1):\n",
    "    sum += i * (N // i)\n",
    "            \n",
    "print(sum)"
   ]
  },
  {
   "cell_type": "code",
   "execution_count": null,
   "metadata": {},
   "outputs": [
    {
     "name": "stdout",
     "output_type": "stream",
     "text": [
      "1\n",
      "4\n",
      "87\n",
      "4065\n",
      "8224740835\n"
     ]
    }
   ],
   "source": [
    "# 17425 약수의 합\n",
    "\n",
    "import sys\n",
    "\n",
    "max = 1000000\n",
    "\n",
    "dp = [0] * (max + 1)\n",
    "sum = [0] * (max + 1)\n",
    "\n",
    "for i in range(1, max + 1):\n",
    "    for j in range(i, max + 1, i):\n",
    "        dp[j] += i\n",
    "    sum[i] = sum[i -1] + dp[i]\n",
    "    \n",
    "T = int(sys.stdin.readline())\n",
    "\n",
    "for _ in range(T):\n",
    "    a = int(sys.stdin.readline())\n",
    "    sys.stdout.write(str(sum[a])+\"\\n\")\n",
    "\n"
   ]
  },
  {
   "cell_type": "code",
   "execution_count": 30,
   "metadata": {},
   "outputs": [
    {
     "name": "stdout",
     "output_type": "stream",
     "text": [
      "6\n",
      "72\n"
     ]
    }
   ],
   "source": [
    "# 2609 최대공약수와 최소공배수\n",
    "\n",
    "import math\n",
    "\n",
    "a, b = map(int, input().split())\n",
    "\n",
    "print(math.gcd(a, b))\n",
    "print(math.lcm(a, b))"
   ]
  },
  {
   "cell_type": "code",
   "execution_count": null,
   "metadata": {},
   "outputs": [
    {
     "name": "stdout",
     "output_type": "stream",
     "text": [
      "4\n"
     ]
    }
   ],
   "source": [
    "# 1978 소수 찾기\n",
    "\n",
    "N = int(input())\n",
    "arr = list(map(int, input().split()))\n",
    "prime = []\n",
    "t = 0\n",
    "\n",
    "for i in arr:\n",
    "    if i < 2:\n",
    "        continue\n",
    "    for j in range(2, i):\n",
    "        if i % j == 0:\n",
    "            t = 1\n",
    "    if t == 0:\n",
    "        prime.append(i)\n",
    "    else:\n",
    "        t = 0\n",
    "\n",
    "print(len(prime))\n",
    "    \n"
   ]
  },
  {
   "cell_type": "code",
   "execution_count": 51,
   "metadata": {},
   "outputs": [
    {
     "name": "stdout",
     "output_type": "stream",
     "text": [
      "3\n",
      "5\n",
      "7\n",
      "11\n",
      "13\n"
     ]
    }
   ],
   "source": [
    "# 1929 소수 구하기\n",
    "\n",
    "import math\n",
    "\n",
    "a, b = map(int, input().split())\n",
    "if a == 1:\n",
    "    a += 1\n",
    "\n",
    "for i in range(a, b + 1):\n",
    "    isPrime = True\n",
    "    for j in range(2, int(math.sqrt(i)) + 1):\n",
    "        if i % j == 0:\n",
    "            isPrime = False\n",
    "            break\n",
    "    if isPrime:\n",
    "        print(i)"
   ]
  },
  {
   "cell_type": "code",
   "execution_count": null,
   "metadata": {},
   "outputs": [
    {
     "name": "stdout",
     "output_type": "stream",
     "text": [
      "8 = 3 + 5\n"
     ]
    }
   ],
   "source": [
    "# 6588 골드바흐의 추측\n",
    "\n",
    "import math\n",
    "\n",
    "max = 1000000\n",
    "is_prime = [True] * (max + 1)\n",
    "is_prime[0] = is_prime[1] = False\n",
    "\n",
    "for i in range(2, int(math.sqrt(max)) + 1):\n",
    "    if is_prime[i]:\n",
    "        for j in range(i * i, max + 1, i):\n",
    "            is_prime[j] = False\n",
    "\n",
    "while True:\n",
    "    n = int(input())\n",
    "    if n == 0:\n",
    "        break\n",
    "    \n",
    "    t = False\n",
    "    for i in range(3, n // 2 + 1, 2):\n",
    "        if is_prime[i] and is_prime[n - i]:\n",
    "            print(f\"{n} = {i} + {n - i}\")\n",
    "            t = True\n",
    "            break\n",
    "        \n",
    "    if not t:\n",
    "        print(\"Goldbach's conjecture is wrong.\")\n",
    "    \n",
    "    "
   ]
  },
  {
   "cell_type": "code",
   "execution_count": null,
   "metadata": {},
   "outputs": [],
   "source": []
  }
 ],
 "metadata": {
  "kernelspec": {
   "display_name": "Python 3",
   "language": "python",
   "name": "python3"
  },
  "language_info": {
   "codemirror_mode": {
    "name": "ipython",
    "version": 3
   },
   "file_extension": ".py",
   "mimetype": "text/x-python",
   "name": "python",
   "nbconvert_exporter": "python",
   "pygments_lexer": "ipython3",
   "version": "3.10.11"
  }
 },
 "nbformat": 4,
 "nbformat_minor": 2
}
